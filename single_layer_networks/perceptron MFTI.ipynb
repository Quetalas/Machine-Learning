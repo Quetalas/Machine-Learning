{
 "cells": [
  {
   "cell_type": "markdown",
   "metadata": {},
   "source": []
  },
  {
   "cell_type": "code",
   "execution_count": 1,
   "metadata": {},
   "outputs": [],
   "source": [
    "import matplotlib.pyplot as plt\n",
    "import mpl_toolkits.mplot3d as p3\n",
    "import pandas as pd\n",
    "import numpy as np\n",
    "import seaborn as sns\n",
    "\n",
    "import random\n",
    "import time\n",
    "\n",
    "%matplotlib inline"
   ]
  },
  {
   "cell_type": "code",
   "execution_count": 2,
   "metadata": {},
   "outputs": [],
   "source": [
    "data = pd.read_csv('./data/apples_pears.csv')"
   ]
  },
  {
   "cell_type": "code",
   "execution_count": 3,
   "metadata": {},
   "outputs": [
    {
     "data": {
      "text/html": [
       "<div>\n",
       "<style>\n",
       "    .dataframe thead tr:only-child th {\n",
       "        text-align: right;\n",
       "    }\n",
       "\n",
       "    .dataframe thead th {\n",
       "        text-align: left;\n",
       "    }\n",
       "\n",
       "    .dataframe tbody tr th {\n",
       "        vertical-align: top;\n",
       "    }\n",
       "</style>\n",
       "<table border=\"1\" class=\"dataframe\">\n",
       "  <thead>\n",
       "    <tr style=\"text-align: right;\">\n",
       "      <th></th>\n",
       "      <th>yellowness</th>\n",
       "      <th>symmetry</th>\n",
       "      <th>target</th>\n",
       "    </tr>\n",
       "  </thead>\n",
       "  <tbody>\n",
       "    <tr>\n",
       "      <th>0</th>\n",
       "      <td>0.779427</td>\n",
       "      <td>0.257305</td>\n",
       "      <td>1.0</td>\n",
       "    </tr>\n",
       "    <tr>\n",
       "      <th>1</th>\n",
       "      <td>0.777005</td>\n",
       "      <td>0.015915</td>\n",
       "      <td>1.0</td>\n",
       "    </tr>\n",
       "    <tr>\n",
       "      <th>2</th>\n",
       "      <td>0.977092</td>\n",
       "      <td>0.304210</td>\n",
       "      <td>1.0</td>\n",
       "    </tr>\n",
       "    <tr>\n",
       "      <th>3</th>\n",
       "      <td>0.043032</td>\n",
       "      <td>0.140899</td>\n",
       "      <td>0.0</td>\n",
       "    </tr>\n",
       "    <tr>\n",
       "      <th>4</th>\n",
       "      <td>0.760433</td>\n",
       "      <td>0.193123</td>\n",
       "      <td>1.0</td>\n",
       "    </tr>\n",
       "  </tbody>\n",
       "</table>\n",
       "</div>"
      ],
      "text/plain": [
       "   yellowness  symmetry  target\n",
       "0    0.779427  0.257305     1.0\n",
       "1    0.777005  0.015915     1.0\n",
       "2    0.977092  0.304210     1.0\n",
       "3    0.043032  0.140899     0.0\n",
       "4    0.760433  0.193123     1.0"
      ]
     },
     "execution_count": 3,
     "metadata": {},
     "output_type": "execute_result"
    }
   ],
   "source": [
    "pears = data['target'] == 1\n",
    "apples = data['target'] == 0\n",
    "data.head()"
   ]
  },
  {
   "cell_type": "code",
   "execution_count": 4,
   "metadata": {},
   "outputs": [
    {
     "data": {
      "image/png": "[encoded data removed]",
      "text/plain": [
       "<matplotlib.figure.Figure at 0xdb21c50>"
      ]
     },
     "metadata": {},
     "output_type": "display_data"
    }
   ],
   "source": [
    "plt.scatter(data[apples].yellowness, data[apples].symmetry, color='red')\n",
    "plt.scatter(data[pears].yellowness, data[pears].symmetry, color='yellow')\n",
    "plt.xlabel('yellowness')\n",
    "plt.ylabel('symmetry')\n",
    "plt.show()"
   ]
  },
  {
   "cell_type": "code",
   "execution_count": 5,
   "metadata": {},
   "outputs": [],
   "source": [
    "class Perceptron:\n",
    "    def __init__(self, w):\n",
    "        self.w = w\n",
    "        \n",
    "    def _activate(self, x):\n",
    "        \"\"\" Пороговая активационная функция\n",
    "        \"\"\"\n",
    "        if np.dot(x, self.w.T) > 0:\n",
    "            return 1\n",
    "        else:\n",
    "            return 0\n",
    "    \n",
    "    def forward_pass(self, input_matrix):\n",
    "        \"\"\"\n",
    "        :param: input_matrix: матрица примеров размера (n,m)\n",
    "        :return: вектор (n, 1) с ответами\n",
    "        \"\"\"\n",
    "        v = np.vectorize(self._activate, signature='(n)->()')\n",
    "        return v(input_matrix)"
   ]
  },
  {
   "cell_type": "code",
   "execution_count": 6,
   "metadata": {},
   "outputs": [],
   "source": [
    "w = np.array([[-1, 511]])\n",
    "input_matrix = np.array([[0,0], [0, 1], [1, 0], [1, 1]])"
   ]
  },
  {
   "cell_type": "code",
   "execution_count": 7,
   "metadata": {},
   "outputs": [],
   "source": [
    "per = Perceptron(w)"
   ]
  },
  {
   "cell_type": "code",
   "execution_count": 8,
   "metadata": {},
   "outputs": [
    {
     "data": {
      "text/plain": [
       "array([[0],\n",
       "       [1],\n",
       "       [0],\n",
       "       [1]])"
      ]
     },
     "execution_count": 8,
     "metadata": {},
     "output_type": "execute_result"
    }
   ],
   "source": [
    "per.forward_pass(input_matrix).reshape(-1, 1)"
   ]
  },
  {
   "cell_type": "code",
   "execution_count": 9,
   "metadata": {},
   "outputs": [],
   "source": [
    "f = lambda x: x**3 - 2*x**2 + 2"
   ]
  },
  {
   "cell_type": "code",
   "execution_count": 10,
   "metadata": {},
   "outputs": [
    {
     "data": {
      "image/png": "[encoded data removed]",
      "text/plain": [
       "<matplotlib.figure.Figure at 0xfbd8c88>"
      ]
     },
     "metadata": {},
     "output_type": "display_data"
    }
   ],
   "source": [
    "x = np.linspace(-1, 2.5, 1000)\n",
    "plt.plot(x, f(x))\n",
    "plt.xlim([-1, 2.5])\n",
    "plt.ylim([0,3])\n",
    "plt.show()"
   ]
  },
  {
   "cell_type": "code",
   "execution_count": 11,
   "metadata": {},
   "outputs": [],
   "source": [
    "def f_prime(x):\n",
    "    return 3*x**2 - 4*x"
   ]
  },
  {
   "cell_type": "code",
   "execution_count": 12,
   "metadata": {},
   "outputs": [
    {
     "name": "stdout",
     "output_type": "stream",
     "text": [
      "Предполагаемый минимум 1.3345183032556167\n"
     ]
    }
   ],
   "source": [
    "x_old = 0\n",
    "x_new = 2\n",
    "lr = 0.1\n",
    "precision = 0.001\n",
    "\n",
    "x_history, y_history = [x_new], [f(x_new)]\n",
    "while abs(x_new - x_old) > precision:\n",
    "    x_old = x_new\n",
    "    grad = f_prime(x_new)\n",
    "    x_new = x_old - lr*grad\n",
    "    x_history.append(x_new)\n",
    "    y_history.append(f(x_new))\n",
    "print(\"Предполагаемый минимум\", x_new)"
   ]
  },
  {
   "cell_type": "code",
   "execution_count": 17,
   "metadata": {},
   "outputs": [
    {
     "data": {
      "image/png": "[encoded data removed]",
      "text/plain": [
       "<matplotlib.figure.Figure at 0xff75860>"
      ]
     },
     "metadata": {},
     "output_type": "display_data"
    }
   ],
   "source": [
    "plt.figure(figsize=[10, 8])\n",
    "plt.plot(x, f(x), c='b')\n",
    "plt.plot(x_history, y_history, c='r', alpha=0.6)\n",
    "plt.scatter(x_history, y_history, c ='g')\n",
    "plt.show()"
   ]
  },
  {
   "cell_type": "code",
   "execution_count": 23,
   "metadata": {},
   "outputs": [
    {
     "data": {
      "image/png": "[encoded data removed]",
      "text/plain": [
       "<matplotlib.figure.Figure at 0x10094748>"
      ]
     },
     "metadata": {},
     "output_type": "display_data"
    }
   ],
   "source": [
    "plt.figure(figsize=[8,6])\n",
    "plt.scatter(x_history, y_history, c='g')\n",
    "plt.plot(x_history, y_history, c='r')\n",
    "plt.plot(x, f(x), c='b', alpha=0.6)\n",
    "plt.xlim([1.2, 2.1])\n",
    "plt.ylim([0,3])\n",
    "plt.title('Чуть ближе')\n",
    "plt.show()"
   ]
  },
  {
   "cell_type": "code",
   "execution_count": 138,
   "metadata": {},
   "outputs": [],
   "source": [
    "class Perceptron:\n",
    "    def __init__(self, w, bias):\n",
    "        self._w = np.array(w, dtype='float64')\n",
    "        self._T = bias\n",
    "    def _activate(self, x):\n",
    "        \"\"\" Активационная функция\n",
    "        \"\"\"\n",
    "        treshold = lambda x: 1 if x > 0 else 0\n",
    "        v = np.vectorize(treshold)\n",
    "        return v(x)\n",
    "    \n",
    "    def forward_pass(self, input_matrix):\n",
    "        \"\"\"\n",
    "        :param: input_matrix: матрица примеров размера (n,m)\n",
    "        :return: вектор (n, 1) с ответами\n",
    "        \"\"\"\n",
    "        net = np.dot(input_matrix, self._w) - self._T\n",
    "        return self._activate(net)\n",
    "    \n",
    "    def grad_step(self, example, y, alpha):\n",
    "        \"\"\" Обновляет значения весов на каждом объекте\n",
    "        по отдельности\n",
    "        \"\"\"    \n",
    "        diff = (self.forward_pass(example) - y)[0,0]\n",
    "        if diff == 0:\n",
    "            return 0\n",
    "        upd_w = diff * example.T\n",
    "        upd_T = diff\n",
    "        self._w -= alpha*upd_w\n",
    "        self._T += alpha*upd_T\n",
    "        return 1\n",
    "    \n",
    "    def fit(self, input_martix, y, max_iter=1e8, alpha=0.001):\n",
    "        i = 0\n",
    "        errors = 1\n",
    "        while errors and i < max_iter:\n",
    "            i += 1\n",
    "            errors = 0\n",
    "            for example, answer in zip(input_matrix, y):\n",
    "                errors += self.grad_step(example, answer, alpha)\n",
    "                \n",
    "                "
   ]
  },
  {
   "cell_type": "code",
   "execution_count": 139,
   "metadata": {},
   "outputs": [],
   "source": [
    "def plot_line(coefs):\n",
    "    w, bias = coefs\n",
    "    a, b = - w[0][0] / w[1][0], - bas / w[1][0]\n",
    "    xx = np.linspace(*plt.xlim())\n",
    "    line.set_data(xx, a*xx + b)"
   ]
  },
  {
   "cell_type": "code",
   "execution_count": 140,
   "metadata": {},
   "outputs": [],
   "source": [
    "W = np.random.rand(2,4)\n",
    "perceptron_for_weights_line = Perceptron(W, 2)"
   ]
  },
  {
   "cell_type": "code",
   "execution_count": 144,
   "metadata": {},
   "outputs": [],
   "source": [
    "def step_by_step_errors(p, input_matrix, y, max_steps=1e6):\n",
    "    \"\"\"\n",
    "    обучает перцептрон последовательно на каждой строчке входных данных, \n",
    "    на каждом шаге обучения запоминает количество неправильно классифицированных примеров\n",
    "    \"\"\"\n",
    "    def count_errors():\n",
    "        return np.abs(p.forward_pass(input_matrix).astype(np.int) - y[:, None]).mean()\n",
    "    errors_list = [count_errors()]\n",
    "    i = 0\n",
    "    errors = 1\n",
    "    while errors and i < max_steps:\n",
    "        i += 1\n",
    "        errors = 0\n",
    "        for example, answer in zip(input_matrix, y):\n",
    "            example = example.reshape((1,example.size))\n",
    "            error = p.grad_step(example, answer,alpha=1)\n",
    "            errors += error\n",
    "            errors_list.append(count_errors())\n",
    "    return errors_list\n",
    "\n"
   ]
  },
  {
   "cell_type": "code",
   "execution_count": 145,
   "metadata": {},
   "outputs": [
    {
     "data": {
      "text/html": [
       "<div>\n",
       "<style>\n",
       "    .dataframe thead tr:only-child th {\n",
       "        text-align: right;\n",
       "    }\n",
       "\n",
       "    .dataframe thead th {\n",
       "        text-align: left;\n",
       "    }\n",
       "\n",
       "    .dataframe tbody tr th {\n",
       "        vertical-align: top;\n",
       "    }\n",
       "</style>\n",
       "<table border=\"1\" class=\"dataframe\">\n",
       "  <thead>\n",
       "    <tr style=\"text-align: right;\">\n",
       "      <th></th>\n",
       "      <th>yellowness</th>\n",
       "      <th>symmetry</th>\n",
       "      <th>target</th>\n",
       "    </tr>\n",
       "  </thead>\n",
       "  <tbody>\n",
       "    <tr>\n",
       "      <th>0</th>\n",
       "      <td>0.779427</td>\n",
       "      <td>0.257305</td>\n",
       "      <td>1.0</td>\n",
       "    </tr>\n",
       "    <tr>\n",
       "      <th>1</th>\n",
       "      <td>0.777005</td>\n",
       "      <td>0.015915</td>\n",
       "      <td>1.0</td>\n",
       "    </tr>\n",
       "    <tr>\n",
       "      <th>2</th>\n",
       "      <td>0.977092</td>\n",
       "      <td>0.304210</td>\n",
       "      <td>1.0</td>\n",
       "    </tr>\n",
       "    <tr>\n",
       "      <th>3</th>\n",
       "      <td>0.043032</td>\n",
       "      <td>0.140899</td>\n",
       "      <td>0.0</td>\n",
       "    </tr>\n",
       "    <tr>\n",
       "      <th>4</th>\n",
       "      <td>0.760433</td>\n",
       "      <td>0.193123</td>\n",
       "      <td>1.0</td>\n",
       "    </tr>\n",
       "  </tbody>\n",
       "</table>\n",
       "</div>"
      ],
      "text/plain": [
       "   yellowness  symmetry  target\n",
       "0    0.779427  0.257305     1.0\n",
       "1    0.777005  0.015915     1.0\n",
       "2    0.977092  0.304210     1.0\n",
       "3    0.043032  0.140899     0.0\n",
       "4    0.760433  0.193123     1.0"
      ]
     },
     "execution_count": 145,
     "metadata": {},
     "output_type": "execute_result"
    }
   ],
   "source": [
    "data.head()"
   ]
  },
  {
   "cell_type": "code",
   "execution_count": 146,
   "metadata": {},
   "outputs": [
    {
     "data": {
      "text/plain": [
       "Text(0.5,0,'Steps')"
      ]
     },
     "execution_count": 146,
     "metadata": {},
     "output_type": "execute_result"
    },
    {
     "data": {
      "image/png": "[encoded data removed]",
      "text/plain": [
       "<matplotlib.figure.Figure at 0x10263278>"
      ]
     },
     "metadata": {},
     "output_type": "display_data"
    }
   ],
   "source": [
    "target = data['target']\n",
    "W = np.random.random((2,1))\n",
    "plt.figure(figsize=[10, 8])\n",
    "perceptron_for_misclassification = Perceptron(W, 1)\n",
    "errors_list = step_by_step_errors(perceptron_for_misclassification, \\\n",
    "                                  input_matrix=data.iloc[:,:2].values, y=target.values, max_steps=10)\n",
    "plt.plot(errors_list)\n",
    "plt.ylabel(\"Number\")\n",
    "plt.xlabel(\"Steps\")"
   ]
  },
  {
   "cell_type": "code",
   "execution_count": null,
   "metadata": {},
   "outputs": [],
   "source": []
  },
  {
   "cell_type": "code",
   "execution_count": null,
   "metadata": {},
   "outputs": [],
   "source": [
    "\n"
   ]
  },
  {
   "cell_type": "code",
   "execution_count": null,
   "metadata": {},
   "outputs": [],
   "source": []
  },
  {
   "cell_type": "code",
   "execution_count": null,
   "metadata": {},
   "outputs": [],
   "source": []
  },
  {
   "cell_type": "code",
   "execution_count": null,
   "metadata": {},
   "outputs": [],
   "source": []
  }
 ],
 "metadata": {
  "kernelspec": {
   "display_name": "Python 3",
   "language": "python",
   "name": "python3"
  },
  "language_info": {
   "codemirror_mode": {
    "name": "ipython",
    "version": 3
   },
   "file_extension": ".py",
   "mimetype": "text/x-python",
   "name": "python",
   "nbconvert_exporter": "python",
   "pygments_lexer": "ipython3",
   "version": "3.6.4"
  }
 },
 "nbformat": 4,
 "nbformat_minor": 2
}
