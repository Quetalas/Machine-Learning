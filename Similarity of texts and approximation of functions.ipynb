{
 "cells": [
  {
   "cell_type": "markdown",
   "metadata": {},
   "source": [
    "# Цель: определить схожесть текстов, рассчитав расстояние между ними"
   ]
  },
  {
   "cell_type": "code",
   "execution_count": 68,
   "metadata": {},
   "outputs": [],
   "source": [
    "with open(r'datas/sentences.txt') as f:\n",
    "    sentences = f.read().lower().replace('\\n', '')"
   ]
  },
  {
   "cell_type": "code",
   "execution_count": 62,
   "metadata": {},
   "outputs": [
    {
     "data": {
      "text/plain": [
       "'in comparison to dogs, cats have not undergone major changes during the domestication process.as cat simply catenates streams of bytes, it can be also used to concatenate binary files, where it will just concatenate sequence of bytes.a common interactive use of cat for a single file is to output the content of a file to standard output.cats can hear sounds too faint or too high in frequency for human ears, such as those made by mice and other small animals.in one, people deliberately tamed cats in a process of artificial selection, as they were useful predators of vermin.the domesticated cat and its closest wild ancestor are both diploid organisms that possess 38 chromosomes and roughly 20,000 genes.domestic cats are similar in size to the other members of the genus felis, typically weighing between 4 and 5 kg (8.8 and 11.0 lb).however, if the output is piped or redirected, cat is unnecessary.cat with one named file is safer where human error is a concern - one wrong use of the default redirection symbol \">\" instead of \"<\" (often adjacent on keyboards) may permanently delete the file you were just needing to read.in terms of legibility, a sequence of commands starting with cat and connected by pipes has a clear left-to-right flow of information.cat command is one of the basic commands that you learned when you started in the unix / linux world.using cat command, the lines received from stdin can be redirected to a new file using redirection symbols.when you type simply cat command without any arguments, it just receives the stdin content and displays it in the stdout.leopard was released on october 26, 2007 as the successor of tiger (version 10.4), and is available in two editions.according to apple, leopard contains over 300 changes and enhancements over its predecessor, mac os x tiger.as of mid 2010, some apple computers have firmware factory installed which will no longer allow installation of mac os x leopard.since apple moved to using intel processors in their computers, the osx86 community has developed and now also allows mac os x tiger and later releases to be installed on non-apple x86-based computers.os x mountain lion was released on july 25, 2012 for purchase and download through apple\\'s mac app store, as part of a switch to releasing os x versions online and every year.apple has released a small patch for the three most recent versions of safari running on os x yosemite, mavericks, and mountain lion.the mountain lion release marks the second time apple has offered an incremental upgrade, rather than releasing a new cat entirely.mac os x mountain lion installs in place, so you won\\'t need to create a separate disk or run the installation off an external drive.the fifth major update to mac os x, leopard, contains such a mountain of features - more than 300 by apple\\'s count.'"
      ]
     },
     "execution_count": 62,
     "metadata": {},
     "output_type": "execute_result"
    }
   ],
   "source": [
    "sentences\n"
   ]
  },
  {
   "cell_type": "code",
   "execution_count": 63,
   "metadata": {},
   "outputs": [],
   "source": [
    "import re"
   ]
  },
  {
   "cell_type": "code",
   "execution_count": 64,
   "metadata": {},
   "outputs": [],
   "source": [
    "words = {}\n",
    "for word in re.split('[^a-z]',sentences):\n",
    "    if word:\n",
    "        if word not in words:\n",
    "            words[word] = 1\n",
    "        else:\n",
    "            words[word] += 1"
   ]
  },
  {
   "cell_type": "code",
   "execution_count": 65,
   "metadata": {},
   "outputs": [
    {
     "data": {
      "text/plain": [
       "{'a': 13,\n",
       " 'according': 1,\n",
       " 'adjacent': 1,\n",
       " 'allow': 1,\n",
       " 'allows': 1,\n",
       " 'also': 2,\n",
       " 'an': 2,\n",
       " 'ancestor': 1,\n",
       " 'and': 14,\n",
       " 'animals': 1,\n",
       " 'any': 1,\n",
       " 'app': 1,\n",
       " 'apple': 8,\n",
       " 'are': 2,\n",
       " 'arguments': 1,\n",
       " 'artificial': 1,\n",
       " 'as': 6,\n",
       " 'available': 1,\n",
       " 'based': 1,\n",
       " 'basic': 1,\n",
       " 'be': 3,\n",
       " 'between': 1,\n",
       " 'binary': 1,\n",
       " 'both': 1,\n",
       " 'by': 3,\n",
       " 'bytes': 2,\n",
       " 'can': 3,\n",
       " 'cat': 10,\n",
       " 'catenates': 1,\n",
       " 'cats': 4,\n",
       " 'changes': 2,\n",
       " 'chromosomes': 1,\n",
       " 'clear': 1,\n",
       " 'closest': 1,\n",
       " 'command': 3,\n",
       " 'commands': 2,\n",
       " 'common': 1,\n",
       " 'community': 1,\n",
       " 'comparison': 1,\n",
       " 'computers': 3,\n",
       " 'concatenate': 2,\n",
       " 'concern': 1,\n",
       " 'connected': 1,\n",
       " 'contains': 2,\n",
       " 'content': 2,\n",
       " 'count': 1,\n",
       " 'create': 1,\n",
       " 'default': 1,\n",
       " 'delete': 1,\n",
       " 'deliberately': 1,\n",
       " 'developed': 1,\n",
       " 'diploid': 1,\n",
       " 'disk': 1,\n",
       " 'displays': 1,\n",
       " 'dogs': 1,\n",
       " 'domestic': 1,\n",
       " 'domesticated': 1,\n",
       " 'domestication': 1,\n",
       " 'download': 1,\n",
       " 'drive': 1,\n",
       " 'during': 1,\n",
       " 'ears': 1,\n",
       " 'editions': 1,\n",
       " 'enhancements': 1,\n",
       " 'entirely': 1,\n",
       " 'error': 1,\n",
       " 'every': 1,\n",
       " 'external': 1,\n",
       " 'factory': 1,\n",
       " 'faint': 1,\n",
       " 'features': 1,\n",
       " 'felis': 1,\n",
       " 'fifth': 1,\n",
       " 'file': 5,\n",
       " 'files': 1,\n",
       " 'firmware': 1,\n",
       " 'flow': 1,\n",
       " 'for': 4,\n",
       " 'frequency': 1,\n",
       " 'from': 1,\n",
       " 'genes': 1,\n",
       " 'genus': 1,\n",
       " 'has': 4,\n",
       " 'have': 2,\n",
       " 'hear': 1,\n",
       " 'high': 1,\n",
       " 'however': 1,\n",
       " 'human': 2,\n",
       " 'if': 1,\n",
       " 'in': 11,\n",
       " 'incremental': 1,\n",
       " 'information': 1,\n",
       " 'installation': 2,\n",
       " 'installed': 2,\n",
       " 'installs': 1,\n",
       " 'instead': 1,\n",
       " 'intel': 1,\n",
       " 'interactive': 1,\n",
       " 'is': 7,\n",
       " 'it': 4,\n",
       " 'its': 2,\n",
       " 'july': 1,\n",
       " 'just': 3,\n",
       " 'keyboards': 1,\n",
       " 'kg': 1,\n",
       " 'later': 1,\n",
       " 'lb': 1,\n",
       " 'learned': 1,\n",
       " 'left': 1,\n",
       " 'legibility': 1,\n",
       " 'leopard': 4,\n",
       " 'lines': 1,\n",
       " 'linux': 1,\n",
       " 'lion': 4,\n",
       " 'longer': 1,\n",
       " 'mac': 6,\n",
       " 'made': 1,\n",
       " 'major': 2,\n",
       " 'marks': 1,\n",
       " 'mavericks': 1,\n",
       " 'may': 1,\n",
       " 'members': 1,\n",
       " 'mice': 1,\n",
       " 'mid': 1,\n",
       " 'more': 1,\n",
       " 'most': 1,\n",
       " 'mountain': 5,\n",
       " 'moved': 1,\n",
       " 'named': 1,\n",
       " 'need': 1,\n",
       " 'needing': 1,\n",
       " 'new': 2,\n",
       " 'no': 1,\n",
       " 'non': 1,\n",
       " 'not': 1,\n",
       " 'now': 1,\n",
       " 'october': 1,\n",
       " 'of': 19,\n",
       " 'off': 1,\n",
       " 'offered': 1,\n",
       " 'often': 1,\n",
       " 'on': 5,\n",
       " 'one': 4,\n",
       " 'online': 1,\n",
       " 'or': 3,\n",
       " 'organisms': 1,\n",
       " 'os': 8,\n",
       " 'osx': 1,\n",
       " 'other': 2,\n",
       " 'output': 3,\n",
       " 'over': 2,\n",
       " 'part': 1,\n",
       " 'patch': 1,\n",
       " 'people': 1,\n",
       " 'permanently': 1,\n",
       " 'piped': 1,\n",
       " 'pipes': 1,\n",
       " 'place': 1,\n",
       " 'possess': 1,\n",
       " 'predators': 1,\n",
       " 'predecessor': 1,\n",
       " 'process': 2,\n",
       " 'processors': 1,\n",
       " 'purchase': 1,\n",
       " 'rather': 1,\n",
       " 'read': 1,\n",
       " 'received': 1,\n",
       " 'receives': 1,\n",
       " 'recent': 1,\n",
       " 'redirected': 2,\n",
       " 'redirection': 2,\n",
       " 'release': 1,\n",
       " 'released': 3,\n",
       " 'releases': 1,\n",
       " 'releasing': 2,\n",
       " 'right': 1,\n",
       " 'roughly': 1,\n",
       " 'run': 1,\n",
       " 'running': 1,\n",
       " 's': 2,\n",
       " 'safari': 1,\n",
       " 'safer': 1,\n",
       " 'second': 1,\n",
       " 'selection': 1,\n",
       " 'separate': 1,\n",
       " 'sequence': 2,\n",
       " 'similar': 1,\n",
       " 'simply': 2,\n",
       " 'since': 1,\n",
       " 'single': 1,\n",
       " 'size': 1,\n",
       " 'small': 2,\n",
       " 'so': 1,\n",
       " 'some': 1,\n",
       " 'sounds': 1,\n",
       " 'standard': 1,\n",
       " 'started': 1,\n",
       " 'starting': 1,\n",
       " 'stdin': 2,\n",
       " 'stdout': 1,\n",
       " 'store': 1,\n",
       " 'streams': 1,\n",
       " 'successor': 1,\n",
       " 'such': 2,\n",
       " 'switch': 1,\n",
       " 'symbol': 1,\n",
       " 'symbols': 1,\n",
       " 't': 1,\n",
       " 'tamed': 1,\n",
       " 'terms': 1,\n",
       " 'than': 2,\n",
       " 'that': 2,\n",
       " 'the': 20,\n",
       " 'their': 1,\n",
       " 'they': 1,\n",
       " 'those': 1,\n",
       " 'three': 1,\n",
       " 'through': 1,\n",
       " 'tiger': 3,\n",
       " 'time': 1,\n",
       " 'to': 14,\n",
       " 'too': 2,\n",
       " 'two': 1,\n",
       " 'type': 1,\n",
       " 'typically': 1,\n",
       " 'undergone': 1,\n",
       " 'unix': 1,\n",
       " 'unnecessary': 1,\n",
       " 'update': 1,\n",
       " 'upgrade': 1,\n",
       " 'use': 2,\n",
       " 'used': 1,\n",
       " 'useful': 1,\n",
       " 'using': 3,\n",
       " 'vermin': 1,\n",
       " 'version': 1,\n",
       " 'versions': 2,\n",
       " 'was': 2,\n",
       " 'weighing': 1,\n",
       " 'were': 2,\n",
       " 'when': 2,\n",
       " 'where': 2,\n",
       " 'which': 1,\n",
       " 'wild': 1,\n",
       " 'will': 2,\n",
       " 'with': 2,\n",
       " 'without': 1,\n",
       " 'won': 1,\n",
       " 'world': 1,\n",
       " 'wrong': 1,\n",
       " 'x': 9,\n",
       " 'year': 1,\n",
       " 'yosemite': 1,\n",
       " 'you': 5}"
      ]
     },
     "execution_count": 65,
     "metadata": {},
     "output_type": "execute_result"
    }
   ],
   "source": [
    "words"
   ]
  },
  {
   "cell_type": "code",
   "execution_count": 69,
   "metadata": {},
   "outputs": [],
   "source": [
    "sentences = sentences.split('.')"
   ]
  },
  {
   "cell_type": "code",
   "execution_count": 70,
   "metadata": {},
   "outputs": [
    {
     "data": {
      "text/plain": [
       "['in comparison to dogs, cats have not undergone major changes during the domestication process',\n",
       " 'as cat simply catenates streams of bytes, it can be also used to concatenate binary files, where it will just concatenate sequence of bytes',\n",
       " 'a common interactive use of cat for a single file is to output the content of a file to standard output',\n",
       " 'cats can hear sounds too faint or too high in frequency for human ears, such as those made by mice and other small animals',\n",
       " 'in one, people deliberately tamed cats in a process of artificial selection, as they were useful predators of vermin',\n",
       " 'the domesticated cat and its closest wild ancestor are both diploid organisms that possess 38 chromosomes and roughly 20,000 genes',\n",
       " 'domestic cats are similar in size to the other members of the genus felis, typically weighing between 4 and 5 kg (8',\n",
       " '8 and 11',\n",
       " '0 lb)',\n",
       " 'however, if the output is piped or redirected, cat is unnecessary',\n",
       " 'cat with one named file is safer where human error is a concern - one wrong use of the default redirection symbol \">\" instead of \"<\" (often adjacent on keyboards) may permanently delete the file you were just needing to read',\n",
       " 'in terms of legibility, a sequence of commands starting with cat and connected by pipes has a clear left-to-right flow of information',\n",
       " 'cat command is one of the basic commands that you learned when you started in the unix / linux world',\n",
       " 'using cat command, the lines received from stdin can be redirected to a new file using redirection symbols',\n",
       " 'when you type simply cat command without any arguments, it just receives the stdin content and displays it in the stdout',\n",
       " 'leopard was released on october 26, 2007 as the successor of tiger (version 10',\n",
       " '4), and is available in two editions',\n",
       " 'according to apple, leopard contains over 300 changes and enhancements over its predecessor, mac os x tiger',\n",
       " 'as of mid 2010, some apple computers have firmware factory installed which will no longer allow installation of mac os x leopard',\n",
       " 'since apple moved to using intel processors in their computers, the osx86 community has developed and now also allows mac os x tiger and later releases to be installed on non-apple x86-based computers',\n",
       " \"os x mountain lion was released on july 25, 2012 for purchase and download through apple's mac app store, as part of a switch to releasing os x versions online and every year\",\n",
       " 'apple has released a small patch for the three most recent versions of safari running on os x yosemite, mavericks, and mountain lion',\n",
       " 'the mountain lion release marks the second time apple has offered an incremental upgrade, rather than releasing a new cat entirely',\n",
       " \"mac os x mountain lion installs in place, so you won't need to create a separate disk or run the installation off an external drive\",\n",
       " \"the fifth major update to mac os x, leopard, contains such a mountain of features - more than 300 by apple's count\",\n",
       " '']"
      ]
     },
     "execution_count": 70,
     "metadata": {},
     "output_type": "execute_result"
    }
   ],
   "source": [
    "sentences"
   ]
  },
  {
   "cell_type": "code",
   "execution_count": 103,
   "metadata": {},
   "outputs": [],
   "source": [
    "keys = words.keys()\n",
    "A = []\n",
    "for s in sentences:\n",
    "    words_in_sen = []\n",
    "    # разбиение предложения на слова\n",
    "    if s == '':\n",
    "        continue\n",
    "    s = re.split('[^a-z]',s)\n",
    "    # подсчёт вхождений\n",
    "    for word in keys:\n",
    "        words_in_sen.append(s.count(word))\n",
    "    A.append(words_in_sen)"
   ]
  },
  {
   "cell_type": "code",
   "execution_count": 104,
   "metadata": {},
   "outputs": [],
   "source": [
    "import numpy as np"
   ]
  },
  {
   "cell_type": "code",
   "execution_count": 105,
   "metadata": {},
   "outputs": [],
   "source": [
    "A = np.array(A)"
   ]
  },
  {
   "cell_type": "code",
   "execution_count": 106,
   "metadata": {},
   "outputs": [
    {
     "data": {
      "text/plain": [
       "array([[1, 1, 1, ..., 0, 0, 0],\n",
       "       [0, 0, 1, ..., 0, 0, 0],\n",
       "       [0, 0, 2, ..., 0, 0, 0],\n",
       "       ...,\n",
       "       [0, 0, 0, ..., 0, 0, 0],\n",
       "       [1, 0, 1, ..., 0, 0, 0],\n",
       "       [0, 0, 1, ..., 1, 1, 1]])"
      ]
     },
     "execution_count": 106,
     "metadata": {},
     "output_type": "execute_result"
    }
   ],
   "source": [
    "A"
   ]
  },
  {
   "cell_type": "code",
   "execution_count": 107,
   "metadata": {},
   "outputs": [
    {
     "data": {
      "text/plain": [
       "(25, 254)"
      ]
     },
     "execution_count": 107,
     "metadata": {},
     "output_type": "execute_result"
    }
   ],
   "source": [
    "A.shape"
   ]
  },
  {
   "cell_type": "code",
   "execution_count": 108,
   "metadata": {},
   "outputs": [],
   "source": [
    "# Строки - предложения, столбцы - количество входений данного слов а в данное предложение"
   ]
  },
  {
   "cell_type": "code",
   "execution_count": 109,
   "metadata": {},
   "outputs": [],
   "source": [
    "import scipy.spatial.distance"
   ]
  },
  {
   "cell_type": "code",
   "execution_count": 110,
   "metadata": {},
   "outputs": [
    {
     "name": "stdout",
     "output_type": "stream",
     "text": [
      "Distance between 1 and 1: 0.0\n",
      "Distance between 1 and 2: 0.9527544408738466\n",
      "Distance between 1 and 3: 0.8644738145642124\n",
      "Distance between 1 and 4: 0.8951715163278082\n",
      "Distance between 1 and 5: 0.7770887149698589\n",
      "Distance between 1 and 6: 0.9402385695332803\n",
      "Distance between 1 and 7: 0.7083940782400979\n",
      "Distance between 1 and 8: 1.0\n",
      "Distance between 1 and 9: 1.0\n",
      "Distance between 1 and 10: 0.9258750683338899\n",
      "Distance between 1 and 11: 0.8842724875284311\n",
      "Distance between 1 and 12: 0.9055088817476932\n",
      "Distance between 1 and 13: 0.8328165362273942\n",
      "Distance between 1 and 14: 0.8804771390665607\n",
      "Distance between 1 and 15: 0.8396432548525454\n",
      "Distance between 1 and 16: 0.919417703597462\n",
      "Distance between 1 and 17: 0.8908910548820038\n",
      "Distance between 1 and 18: 0.8740118423302576\n",
      "Distance between 1 and 19: 0.9442721787424647\n",
      "Distance between 1 and 20: 0.8406361854220809\n",
      "Distance between 1 and 21: 0.956644501523794\n",
      "Distance between 1 and 22: 0.9442721787424647\n",
      "Distance between 1 and 23: 0.8885443574849294\n",
      "Distance between 1 and 24: 0.8427572744917122\n",
      "Distance between 1 and 25: 0.8250364469440588\n"
     ]
    }
   ],
   "source": [
    "i = 0\n",
    "for s in A:\n",
    "    i += 1\n",
    "    print('Distance between 1 and {0}: {1}'.format(i, scipy.spatial.distance.cosine(A[0], s)))"
   ]
  },
  {
   "cell_type": "code",
   "execution_count": 111,
   "metadata": {},
   "outputs": [
    {
     "name": "stdout",
     "output_type": "stream",
     "text": [
      "Distance between 2 and 1: 0.9527544408738466\n",
      "Distance between 2 and 2: 0.0\n",
      "Distance between 2 and 3: 0.7908349933664811\n",
      "Distance between 2 and 4: 0.9306624754718463\n",
      "Distance between 2 and 5: 0.8156975548063786\n",
      "Distance between 2 and 6: 0.9604715292478953\n",
      "Distance between 2 and 7: 0.8842724875284311\n",
      "Distance between 2 and 8: 1.0\n",
      "Distance between 2 and 9: 1.0\n",
      "Distance between 2 and 10: 0.950970966215454\n",
      "Distance between 2 and 11: 0.7958758547680685\n",
      "Distance between 2 and 12: 0.71875\n",
      "Distance between 2 and 13: 0.8894185328838271\n",
      "Distance between 2 and 14: 0.841886116991581\n",
      "Distance between 2 and 15: 0.7525126265847084\n",
      "Distance between 2 and 16: 0.8400994627332922\n",
      "Distance between 2 and 17: 1.0\n",
      "Distance between 2 and 18: 0.9583333333333334\n",
      "Distance between 2 and 19: 0.7788370657676543\n",
      "Distance between 2 and 20: 0.894590744661054\n",
      "Distance between 2 and 21: 0.8852921330647191\n",
      "Distance between 2 and 22: 0.9262790219225514\n",
      "Distance between 2 and 23: 0.9631395109612757\n",
      "Distance between 2 and 24: 0.9653312377359232\n",
      "Distance between 2 and 25: 0.8842724875284311\n"
     ]
    }
   ],
   "source": [
    "i = 0\n",
    "for s in A:\n",
    "    i += 1\n",
    "    print('Distance between 2 and {0}: {1}'.format(i, scipy.spatial.distance.cosine(A[1], s)))"
   ]
  },
  {
   "cell_type": "code",
   "execution_count": null,
   "metadata": {},
   "outputs": [],
   "source": []
  },
  {
   "cell_type": "code",
   "execution_count": null,
   "metadata": {},
   "outputs": [],
   "source": []
  }
 ],
 "metadata": {
  "kernelspec": {
   "display_name": "Python 3",
   "language": "python",
   "name": "python3"
  },
  "language_info": {
   "codemirror_mode": {
    "name": "ipython",
    "version": 3
   },
   "file_extension": ".py",
   "mimetype": "text/x-python",
   "name": "python",
   "nbconvert_exporter": "python",
   "pygments_lexer": "ipython3",
   "version": "3.6.4"
  }
 },
 "nbformat": 4,
 "nbformat_minor": 2
}
